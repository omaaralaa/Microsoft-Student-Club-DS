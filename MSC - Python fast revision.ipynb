{
 "cells": [
  {
   "cell_type": "markdown",
   "id": "3f04d140",
   "metadata": {},
   "source": [
    "### DataType Output: str \n",
    "x = \"Hello World\"\n",
    "  \n",
    "### DataType Output: int \n",
    "x = 50\n",
    "  \n",
    "### DataType Output: float \n",
    "x = 60.5\n",
    "  \n",
    "### DataType Output: complex \n",
    "x = 3j\n",
    "  \n",
    "### DataType Output: list \n",
    "x = [\"microsoft\", \"student\", \"club\"] \n",
    "  \n",
    "### DataType Output: tuple \n",
    "x = (\"microsoft\", \"student\", \"club\") \n",
    "  \n",
    "### DataType Output: range \n",
    "x = range(10) #from 0 to 10\n",
    "  \n",
    "### DataType Output: dict \n",
    "x = {\"name\": \"Ahmed\", \"age\": 24} \n",
    "  \n",
    "### DataType Output: set \n",
    "x = {\"microsoft\", \"student\", \"club\"} \n",
    "  \n",
    "### DataType Output: bool \n",
    "x = True\n",
    "  \n",
    "### DataType Output: NoneType \n",
    "x = None"
   ]
  },
  {
   "cell_type": "markdown",
   "id": "f87fae03",
   "metadata": {},
   "source": [
    "# Print()"
   ]
  },
  {
   "cell_type": "code",
   "execution_count": 1,
   "id": "52a4eab6",
   "metadata": {
    "ExecuteTime": {
     "end_time": "2023-10-12T13:47:50.771987Z",
     "start_time": "2023-10-12T13:47:50.755489Z"
    }
   },
   "outputs": [
    {
     "name": "stdout",
     "output_type": "stream",
     "text": [
      "Hello World\n"
     ]
    }
   ],
   "source": [
    "print(\"Hello World\") "
   ]
  },
  {
   "cell_type": "code",
   "execution_count": 3,
   "id": "59995891",
   "metadata": {
    "ExecuteTime": {
     "end_time": "2023-10-12T13:48:30.547954Z",
     "start_time": "2023-10-12T13:48:30.541606Z"
    }
   },
   "outputs": [
    {
     "name": "stdout",
     "output_type": "stream",
     "text": [
      "Welcome to Data Science Course\n"
     ]
    }
   ],
   "source": [
    "# ends the output with a space \n",
    "print(\"Welcome to\", end=' ') \n",
    "print(\"Data Science Course\")"
   ]
  },
  {
   "cell_type": "code",
   "execution_count": 5,
   "id": "bd81a44d",
   "metadata": {
    "ExecuteTime": {
     "end_time": "2023-10-12T13:49:43.991658Z",
     "start_time": "2023-10-12T13:49:43.986393Z"
    }
   },
   "outputs": [
    {
     "name": "stdout",
     "output_type": "stream",
     "text": [
      "Welcome to \n",
      " Data Science Course\n"
     ]
    }
   ],
   "source": [
    "# \\n new line\n",
    "print(\"Welcome to \\n Data Science Course\")"
   ]
  },
  {
   "cell_type": "code",
   "execution_count": 6,
   "id": "08d0d074",
   "metadata": {
    "ExecuteTime": {
     "end_time": "2023-10-12T13:50:18.545567Z",
     "start_time": "2023-10-12T13:50:18.540046Z"
    }
   },
   "outputs": [
    {
     "name": "stdout",
     "output_type": "stream",
     "text": [
      "Welcome to \t Data Science Course\n"
     ]
    }
   ],
   "source": [
    "# \\t tab space\n",
    "print(\"Welcome to \\t Data Science Course\")"
   ]
  },
  {
   "cell_type": "code",
   "execution_count": 7,
   "id": "35155342",
   "metadata": {
    "ExecuteTime": {
     "end_time": "2023-10-12T13:51:06.385751Z",
     "start_time": "2023-10-12T13:51:06.379441Z"
    }
   },
   "outputs": [
    {
     "name": "stdout",
     "output_type": "stream",
     "text": [
      "09-12-2016\n"
     ]
    }
   ],
   "source": [
    "# code for disabling the softspace feature \n",
    "print('09', '12', '2016', sep='-')"
   ]
  },
  {
   "cell_type": "markdown",
   "id": "d6b29d47",
   "metadata": {},
   "source": [
    "# Input()"
   ]
  },
  {
   "cell_type": "code",
   "execution_count": 8,
   "id": "10d6344c",
   "metadata": {
    "ExecuteTime": {
     "end_time": "2023-10-12T13:52:18.291172Z",
     "start_time": "2023-10-12T13:52:15.010622Z"
    }
   },
   "outputs": [
    {
     "name": "stdout",
     "output_type": "stream",
     "text": [
      "Enter your value: 20\n",
      "20\n"
     ]
    }
   ],
   "source": [
    "value = input(\"Enter your value: \") \n",
    "print(value)"
   ]
  },
  {
   "cell_type": "markdown",
   "id": "090e1273",
   "metadata": {},
   "source": [
    "# Variable"
   ]
  },
  {
   "cell_type": "code",
   "execution_count": 9,
   "id": "c9ef7217",
   "metadata": {
    "ExecuteTime": {
     "end_time": "2023-10-12T13:53:10.376602Z",
     "start_time": "2023-10-12T13:53:10.370439Z"
    }
   },
   "outputs": [
    {
     "name": "stdout",
     "output_type": "stream",
     "text": [
      "microsoft student club\n"
     ]
    }
   ],
   "source": [
    "name = \"microsoft student club\"\n",
    "print(name)"
   ]
  },
  {
   "cell_type": "markdown",
   "id": "f29d703f",
   "metadata": {},
   "source": [
    "# Arithmetic Operators"
   ]
  },
  {
   "cell_type": "code",
   "execution_count": 10,
   "id": "ed31e54a",
   "metadata": {
    "ExecuteTime": {
     "end_time": "2023-10-12T13:53:49.413824Z",
     "start_time": "2023-10-12T13:53:49.404319Z"
    }
   },
   "outputs": [
    {
     "name": "stdout",
     "output_type": "stream",
     "text": [
      "13\n",
      "5\n",
      "36\n",
      "1\n",
      "6561\n"
     ]
    }
   ],
   "source": [
    "# Examples of Arithmetic Operator \n",
    "a = 9\n",
    "b = 4\n",
    "\n",
    "# Addition of numbers \n",
    "add = a + b \n",
    "\n",
    "# Subtraction of numbers \n",
    "sub = a - b \n",
    "\n",
    "# Multiplication of number \n",
    "mul = a * b \n",
    "\n",
    "# Modulo of both number \n",
    "mod = a % b \n",
    "\n",
    "# Power \n",
    "p = a ** b \n",
    "\n",
    "# print results \n",
    "print(add) \n",
    "print(sub) \n",
    "print(mul) \n",
    "print(mod) \n",
    "print(p) \n"
   ]
  },
  {
   "cell_type": "markdown",
   "id": "9a525304",
   "metadata": {},
   "source": [
    "# Comparison Operators"
   ]
  },
  {
   "cell_type": "code",
   "execution_count": 11,
   "id": "35cabd73",
   "metadata": {
    "ExecuteTime": {
     "end_time": "2023-10-12T13:55:34.316370Z",
     "start_time": "2023-10-12T13:55:34.306867Z"
    }
   },
   "outputs": [
    {
     "name": "stdout",
     "output_type": "stream",
     "text": [
      "False\n",
      "True\n",
      "False\n",
      "True\n",
      "False\n",
      "True\n"
     ]
    }
   ],
   "source": [
    "# Examples of Relational Operators \n",
    "a = 13\n",
    "b = 33\n",
    "  \n",
    "# a > b is False \n",
    "print(a > b) \n",
    "  \n",
    "# a < b is True \n",
    "print(a < b) \n",
    "  \n",
    "# a == b is False \n",
    "print(a == b) \n",
    "  \n",
    "# a != b is True \n",
    "print(a != b) \n",
    "  \n",
    "# a >= b is False \n",
    "print(a >= b) \n",
    "  \n",
    "# a <= b is True \n",
    "print(a <= b)"
   ]
  },
  {
   "cell_type": "markdown",
   "id": "735e93d1",
   "metadata": {},
   "source": [
    "# Logical Operators "
   ]
  },
  {
   "cell_type": "code",
   "execution_count": 12,
   "id": "3c2e9687",
   "metadata": {
    "ExecuteTime": {
     "end_time": "2023-10-12T13:56:09.970725Z",
     "start_time": "2023-10-12T13:56:09.963059Z"
    }
   },
   "outputs": [
    {
     "name": "stdout",
     "output_type": "stream",
     "text": [
      "False\n",
      "True\n",
      "False\n"
     ]
    }
   ],
   "source": [
    "# Examples of Logical Operator \n",
    "a = True\n",
    "b = False\n",
    "\n",
    "# Print a and b is False \n",
    "print(a and b) \n",
    "\n",
    "# Print a or b is True \n",
    "print(a or b) \n",
    "\n",
    "# Print not a is False \n",
    "print(not a) \n"
   ]
  },
  {
   "cell_type": "markdown",
   "id": "2c7cc883",
   "metadata": {},
   "source": [
    "# String Slicing"
   ]
  },
  {
   "cell_type": "code",
   "execution_count": 16,
   "id": "8e0353c3",
   "metadata": {
    "ExecuteTime": {
     "end_time": "2023-10-12T13:59:10.276251Z",
     "start_time": "2023-10-12T13:59:10.267018Z"
    }
   },
   "outputs": [
    {
     "name": "stdout",
     "output_type": "stream",
     "text": [
      "Initial String: \n",
      "MicrosoftStudentClub\n",
      "\n",
      " Slicing characters from 3-12: \n",
      "rosoftStu\n",
      "\n",
      " Slicing characters between 3rd and 2nd last character: \n",
      "rosoftStudentCl\n"
     ]
    }
   ],
   "source": [
    "# Creating a String \n",
    "String1 = \"MicrosoftStudentClub\"\n",
    "print(\"Initial String: \") \n",
    "print(String1) \n",
    "\n",
    "# Printing 3rd character \n",
    "print(\"\\n\",\"Slicing characters from 3-12: \") \n",
    "print(String1[3:12]) \n",
    "\n",
    "# Printing characters between \n",
    "# 3rd and 2nd last character \n",
    "print(\"\\n\",\"Slicing characters between \" +\n",
    "\t\"3rd and 2nd last character: \") \n",
    "print(String1[3:-2]) \n"
   ]
  },
  {
   "cell_type": "markdown",
   "id": "37d29316",
   "metadata": {},
   "source": [
    "# Conditional Statements"
   ]
  },
  {
   "cell_type": "code",
   "execution_count": 20,
   "id": "d1a30694",
   "metadata": {
    "ExecuteTime": {
     "end_time": "2023-10-12T14:43:05.266700Z",
     "start_time": "2023-10-12T14:43:05.258247Z"
    }
   },
   "outputs": [
    {
     "name": "stdout",
     "output_type": "stream",
     "text": [
      "i is greater than 15\n",
      "i'm not in if and not in else Block\n"
     ]
    }
   ],
   "source": [
    "# If else statement \n",
    "\n",
    "i = 20\n",
    "if (i < 15): \n",
    "    print(\"i is smaller than 15\") \n",
    "#elif here\n",
    "#elif here\n",
    "#elif here\n",
    "else: \n",
    "    print(\"i is greater than 15\") \n",
    "    \n",
    "print(\"i'm not in if and not in else Block\") \n"
   ]
  },
  {
   "cell_type": "markdown",
   "id": "66017112",
   "metadata": {},
   "source": [
    "# For loop"
   ]
  },
  {
   "cell_type": "code",
   "execution_count": 32,
   "id": "6313443d",
   "metadata": {
    "ExecuteTime": {
     "end_time": "2023-10-12T15:01:48.987213Z",
     "start_time": "2023-10-12T15:01:48.981339Z"
    }
   },
   "outputs": [
    {
     "name": "stdout",
     "output_type": "stream",
     "text": [
      "0\n",
      "1\n",
      "2\n",
      "3\n",
      "4\n"
     ]
    }
   ],
   "source": [
    "for i in range(5): \n",
    "    print(i) "
   ]
  },
  {
   "cell_type": "code",
   "execution_count": 21,
   "id": "ac305925",
   "metadata": {
    "ExecuteTime": {
     "end_time": "2023-10-12T14:45:18.262742Z",
     "start_time": "2023-10-12T14:45:18.241836Z"
    }
   },
   "outputs": [
    {
     "name": "stdout",
     "output_type": "stream",
     "text": [
      "microsoft\n",
      "student\n",
      "club\n"
     ]
    }
   ],
   "source": [
    "# Iterating over any thing iterative(like list)\n",
    "l = [\"microsoft\", \"student\", \"club\"] \n",
    "  \n",
    "for i in l: \n",
    "    print(i)"
   ]
  },
  {
   "cell_type": "code",
   "execution_count": 23,
   "id": "999471f0",
   "metadata": {
    "ExecuteTime": {
     "end_time": "2023-10-12T14:50:03.520226Z",
     "start_time": "2023-10-12T14:50:03.512131Z"
    }
   },
   "outputs": [
    {
     "name": "stdout",
     "output_type": "stream",
     "text": [
      "[1, 2, 3]\n",
      "1\n",
      "2\n",
      "3\n",
      "[4, 5, 6]\n",
      "4\n",
      "5\n",
      "6\n",
      "[7, 8, 9]\n",
      "7\n",
      "8\n",
      "9\n"
     ]
    }
   ],
   "source": [
    "# nested for\n",
    "for i in [[1,2,3],[4,5,6],[7,8,9]] :\n",
    "    print (i)\n",
    "    for j in i :\n",
    "        print(j)"
   ]
  },
  {
   "cell_type": "markdown",
   "id": "2a48e8e7",
   "metadata": {},
   "source": [
    "# While loop"
   ]
  },
  {
   "cell_type": "code",
   "execution_count": 24,
   "id": "f6ed7533",
   "metadata": {
    "ExecuteTime": {
     "end_time": "2023-10-12T14:52:44.303750Z",
     "start_time": "2023-10-12T14:52:44.291743Z"
    }
   },
   "outputs": [
    {
     "name": "stdout",
     "output_type": "stream",
     "text": [
      "Hello Jupyter\n",
      "Hello Jupyter\n",
      "Hello Jupyter\n"
     ]
    }
   ],
   "source": [
    "# Python program to illustrate \n",
    "# while loop \n",
    "count = 0\n",
    "while (count < 3): \n",
    "    count = count + 1\n",
    "    print(\"Hello Jupyter\") "
   ]
  },
  {
   "cell_type": "code",
   "execution_count": 26,
   "id": "e2f63876",
   "metadata": {
    "ExecuteTime": {
     "end_time": "2023-10-12T14:54:04.514557Z",
     "start_time": "2023-10-12T14:54:04.504357Z"
    }
   },
   "outputs": [
    {
     "name": "stdout",
     "output_type": "stream",
     "text": [
      "1 1 1 2 1 3 \n",
      "2 1 2 2 2 3 \n",
      "3 1 3 2 3 3 \n"
     ]
    }
   ],
   "source": [
    "# nested while loop\n",
    "i = 1\n",
    "\n",
    "while i < 4:  # Outer while loop\n",
    "    j = 1\n",
    "    \n",
    "    while j < 4:  # Inner while loop\n",
    "        print(i, j, end=\" \")\n",
    "        j += 1\n",
    "    \n",
    "    print()  # Move to the next line after each row of inner loop is printed\n",
    "    i += 1"
   ]
  },
  {
   "cell_type": "markdown",
   "id": "9d8f76ca",
   "metadata": {},
   "source": [
    "# Functions"
   ]
  },
  {
   "cell_type": "code",
   "execution_count": 28,
   "id": "5415783d",
   "metadata": {
    "ExecuteTime": {
     "end_time": "2023-10-12T14:59:46.609603Z",
     "start_time": "2023-10-12T14:59:46.602738Z"
    }
   },
   "outputs": [
    {
     "name": "stdout",
     "output_type": "stream",
     "text": [
      "Welcome to MSC\n"
     ]
    }
   ],
   "source": [
    "# A simple Python function \n",
    "def fun(): \n",
    "    print(\"Welcome to MSC\") \n",
    "# Driver code to call a function \n",
    "fun() "
   ]
  },
  {
   "cell_type": "code",
   "execution_count": 29,
   "id": "22d77006",
   "metadata": {
    "ExecuteTime": {
     "end_time": "2023-10-12T15:00:11.345565Z",
     "start_time": "2023-10-12T15:00:11.334563Z"
    }
   },
   "outputs": [
    {
     "name": "stdout",
     "output_type": "stream",
     "text": [
      "even\n",
      "odd\n"
     ]
    }
   ],
   "source": [
    "# A simple Python function to check \n",
    "# whether x is even or odd \n",
    "def evenOdd(x): \n",
    "    if (x % 2 == 0): \n",
    "        print(\"even\") \n",
    "    else: \n",
    "        print(\"odd\") \n",
    "\n",
    "\n",
    "# Driver code to call the function \n",
    "evenOdd(2) \n",
    "evenOdd(3) \n"
   ]
  },
  {
   "cell_type": "code",
   "execution_count": 30,
   "id": "45fb17c1",
   "metadata": {
    "ExecuteTime": {
     "end_time": "2023-10-12T15:00:43.302994Z",
     "start_time": "2023-10-12T15:00:43.289560Z"
    }
   },
   "outputs": [
    {
     "name": "stdout",
     "output_type": "stream",
     "text": [
      "Result of add function is 5\n",
      "\n",
      "Result of is_true function is True\n"
     ]
    }
   ],
   "source": [
    "# Python program to \n",
    "# demonstrate return statement \n",
    "def add(a, b): \n",
    "\n",
    "    # returning sum of a and b \n",
    "    return a + b \n",
    "\n",
    "def is_true(a): \n",
    "\n",
    "    # returning boolean of a \n",
    "    return bool(a) \n",
    "\n",
    "# calling function \n",
    "res = add(2, 3) \n",
    "print(\"Result of add function is {}\".format(res)) \n",
    "\n",
    "res = is_true(2<5) \n",
    "print(\"\\nResult of is_true function is {}\".format(res)) \n"
   ]
  },
  {
   "cell_type": "markdown",
   "id": "16f41a98",
   "metadata": {},
   "source": [
    "# Lambda function"
   ]
  },
  {
   "cell_type": "code",
   "execution_count": 34,
   "id": "d8590f68",
   "metadata": {
    "ExecuteTime": {
     "end_time": "2023-10-12T15:03:15.443775Z",
     "start_time": "2023-10-12T15:03:15.436497Z"
    }
   },
   "outputs": [
    {
     "name": "stdout",
     "output_type": "stream",
     "text": [
      "Even number\n"
     ]
    }
   ],
   "source": [
    "calc = lambda num: \"Even number\" if num % 2 == 0 else \"Odd number\"\n",
    "  \n",
    "print(calc(20))"
   ]
  },
  {
   "cell_type": "markdown",
   "id": "4d703fea",
   "metadata": {},
   "source": [
    "# Try / Except Statement"
   ]
  },
  {
   "cell_type": "code",
   "execution_count": 35,
   "id": "036ac4fc",
   "metadata": {
    "ExecuteTime": {
     "end_time": "2023-10-12T15:04:08.287632Z",
     "start_time": "2023-10-12T15:04:08.276746Z"
    }
   },
   "outputs": [
    {
     "name": "stdout",
     "output_type": "stream",
     "text": [
      "Second element = 2\n",
      "An error occurred\n"
     ]
    }
   ],
   "source": [
    "a = [1, 2, 3] \n",
    "try: \n",
    "    print (\"Second element = %d\" %(a[1])) \n",
    "\n",
    "    # Throws error since there are only 3 elements in array \n",
    "    print (\"Fourth element = %d\" %(a[3])) \n",
    "\n",
    "except: \n",
    "    print (\"An error occurred\") \n"
   ]
  },
  {
   "cell_type": "markdown",
   "id": "53239d98",
   "metadata": {},
   "source": [
    "# File Handling"
   ]
  },
  {
   "cell_type": "code",
   "execution_count": 36,
   "id": "a33bd96f",
   "metadata": {
    "ExecuteTime": {
     "end_time": "2023-10-12T15:05:50.767371Z",
     "start_time": "2023-10-12T15:05:50.711592Z"
    }
   },
   "outputs": [
    {
     "name": "stdout",
     "output_type": "stream",
     "text": [
      "File Content:\n",
      "Hello, this is a sample file.\n",
      "Python is a powerful language.\n",
      "\n",
      "\n",
      "File Content Line by Line:\n",
      "Hello, this is a sample file.\n",
      "Python is a powerful language.\n",
      "Appending additional content to the file.\n"
     ]
    }
   ],
   "source": [
    "# File Handling: Writing to a File\n",
    "# Open a file for writing (creates a new file or overwrites an existing one)\n",
    "file_name = \"sample.txt\"\n",
    "with open(file_name, \"w\") as file:\n",
    "    file.write(\"Hello, this is a sample file.\\n\")\n",
    "    file.write(\"Python is a powerful language.\\n\")\n",
    "\n",
    "# File Handling: Reading from a File\n",
    "# Open the file for reading\n",
    "with open(file_name, \"r\") as file:\n",
    "    content = file.read()\n",
    "    print(\"File Content:\")\n",
    "    print(content)\n",
    "\n",
    "# Appending to a File\n",
    "with open(file_name, \"a\") as file:\n",
    "    file.write(\"Appending additional content to the file.\\n\")\n",
    "\n",
    "# Reading line by line\n",
    "with open(file_name, \"r\") as file:\n",
    "    print(\"\\nFile Content Line by Line:\")\n",
    "    for line in file:\n",
    "        print(line.strip())  # Strip newline characters\n",
    "\n",
    "# Closing the file (not required when using \"with\" statement)\n",
    "# file.close()\n",
    "\n",
    "# Using \"with\" statement automatically closes the file when the block exits\n"
   ]
  },
  {
   "cell_type": "markdown",
   "id": "aa5ea5b1",
   "metadata": {},
   "source": [
    "# Libraries in Python"
   ]
  },
  {
   "cell_type": "markdown",
   "id": "df32c442",
   "metadata": {},
   "source": [
    "- Normally, a library is a collection of books or is a room or place where many books are stored to be used later. Similarly, in the programming world, a library is a collection of precompiled codes that can be used later on in a program for some specific well-defined operations. Other than pre-compiled codes, a library may contain documentation, configuration data, message templates, classes, and values, etc.\n",
    "\n",
    "- A Python library is a collection of related modules. It contains bundles of code that can be used repeatedly in different programs. It makes Python Programming simpler and convenient for the programmer. As we don’t need to write the same code again and again for different programs. Python libraries play a very vital role in fields of Machine Learning, Data Science, Data Visualization, etc"
   ]
  },
  {
   "cell_type": "code",
   "execution_count": 37,
   "id": "626b35dc",
   "metadata": {
    "ExecuteTime": {
     "end_time": "2023-10-12T15:09:09.279611Z",
     "start_time": "2023-10-12T15:09:09.267678Z"
    }
   },
   "outputs": [
    {
     "name": "stdout",
     "output_type": "stream",
     "text": [
      "4.0\n"
     ]
    }
   ],
   "source": [
    "# library example \n",
    "# Importing math library \n",
    "import math \n",
    "  \n",
    "A = 16\n",
    "print(math.sqrt(A))"
   ]
  },
  {
   "cell_type": "code",
   "execution_count": 38,
   "id": "31235132",
   "metadata": {
    "ExecuteTime": {
     "end_time": "2023-10-12T15:09:32.188337Z",
     "start_time": "2023-10-12T15:09:32.179510Z"
    }
   },
   "outputs": [
    {
     "name": "stdout",
     "output_type": "stream",
     "text": [
      "4.0\n",
      "0.0015926529164868282\n"
     ]
    }
   ],
   "source": [
    "# Importing specific items \n",
    "from math import sqrt, sin \n",
    "\n",
    "A = 16\n",
    "B = 3.14\n",
    "print(sqrt(A)) \n",
    "print(sin(B)) \n"
   ]
  },
  {
   "cell_type": "code",
   "execution_count": null,
   "id": "b13d3485",
   "metadata": {},
   "outputs": [],
   "source": []
  }
 ],
 "metadata": {
  "kernelspec": {
   "display_name": "Python 3 (ipykernel)",
   "language": "python",
   "name": "python3"
  },
  "language_info": {
   "codemirror_mode": {
    "name": "ipython",
    "version": 3
   },
   "file_extension": ".py",
   "mimetype": "text/x-python",
   "name": "python",
   "nbconvert_exporter": "python",
   "pygments_lexer": "ipython3",
   "version": "3.11.4"
  }
 },
 "nbformat": 4,
 "nbformat_minor": 5
}
