{
 "cells": [
  {
   "cell_type": "code",
   "execution_count": 1,
   "id": "bccc3940",
   "metadata": {
    "ExecuteTime": {
     "end_time": "2023-11-16T13:12:02.022091Z",
     "start_time": "2023-11-16T13:11:57.090613Z"
    }
   },
   "outputs": [],
   "source": [
    "import requests\n",
    "from bs4 import BeautifulSoup\n",
    "import pandas as pd \n",
    "\n",
    "url = \"https://www.worldometers.info/world-population/population-by-country/\"\n",
    "\n",
    "response = requests.get(url)\n",
    "soup = BeautifulSoup(response.text, \"html.parser\")\n",
    "\n",
    "rows = soup.find(\"table\", {\"id\": \"example2\"}).find(\"tbody\").find_all(\"tr\")\n",
    "\n",
    "countries_list = []\n",
    "\n",
    "for row in rows:\n",
    "    columns = row.find_all(\"td\")\n",
    "    dict = {}\n",
    "    dict[\"country\"] = columns[1].text\n",
    "    dict[\"population 2020\"] = columns[2].text.replace(\",\", \"\")\n",
    "    dict[\"yearly change\"] = columns[3].text\n",
    "    dict[\"net change\"] = columns[4].text\n",
    "    dict[\"density (P/Km²)\"] = columns[5].text\n",
    "    dict[\"land area (Km²)\"] = columns[6].text\n",
    "    dict[\"migrants (net)\"] = columns[7].text\n",
    "    dict[\"fert. rate\"] = columns[8].text\n",
    "    dict[\"med. age\"] = columns[9].text\n",
    "    dict[\"urban pop %\"] = columns[10].text\n",
    "    dict[\"world share\"] = columns[11].text\n",
    "    \n",
    "    countries_list.append(dict)\n",
    "\n",
    "df = pd.DataFrame(countries_list)\n",
    "df.to_excel(r\"C:\\Users\\clt\\Desktop\\Web Scraping\\3.1.xlsx\", index=False)\n",
    "df.to_csv(r\"C:\\Users\\clt\\Desktop\\Web Scraping\\3.1.csv\", index=False)"
   ]
  },
  {
   "cell_type": "code",
   "execution_count": null,
   "id": "1c2713b2",
   "metadata": {},
   "outputs": [],
   "source": []
  }
 ],
 "metadata": {
  "kernelspec": {
   "display_name": "Python 3 (ipykernel)",
   "language": "python",
   "name": "python3"
  },
  "language_info": {
   "codemirror_mode": {
    "name": "ipython",
    "version": 3
   },
   "file_extension": ".py",
   "mimetype": "text/x-python",
   "name": "python",
   "nbconvert_exporter": "python",
   "pygments_lexer": "ipython3",
   "version": "3.11.4"
  }
 },
 "nbformat": 4,
 "nbformat_minor": 5
}
