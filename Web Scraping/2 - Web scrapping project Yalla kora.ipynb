{
 "cells": [
  {
   "cell_type": "code",
   "execution_count": 2,
   "id": "0e1382f4",
   "metadata": {},
   "outputs": [
    {
     "name": "stdout",
     "output_type": "stream",
     "text": [
      "Enter the date you want to scrape (e.g., mm/dd/yy): 11/26/2023\n"
     ]
    },
    {
     "name": "stderr",
     "output_type": "stream",
     "text": [
      "C:\\Users\\kirol\\anaconda3\\Lib\\site-packages\\pandas\\util\\_decorators.py:211: FutureWarning: the 'encoding' keyword is deprecated and will be removed in a future version. Please take steps to stop the use of 'encoding'\n",
      "  return func(*args, **kwargs)\n"
     ]
    }
   ],
   "source": [
    "from bs4 import BeautifulSoup\n",
    "import requests\n",
    "import pandas as pd\n",
    "import itertools\n",
    "\n",
    "# Taking input for the date to scrape\n",
    "date = input(\"Enter the date you want to scrape (e.g., mm/dd/yy): \")\n",
    "\n",
    "# Making a request to the website\n",
    "page = requests.get(f\"https://www.yallakora.com/match-center/%D9%85%D8%B1%D9%83%D8%B2-%D8%A7%D9%84%D9%85%D8%A8%D8%A7%D8%B1%D9%8A%D8%A7%D8%AA?date={date}#days\")\n",
    "\n",
    "def get_data(page):\n",
    "    # Parsing the web content\n",
    "    src = page.content\n",
    "    soup = BeautifulSoup(src, 'lxml')\n",
    "    \n",
    "    # Finding match containers\n",
    "    champoinships = soup.find_all('div', {'class': 'matchesHpCntnr'})\n",
    "\n",
    "    # Create lists to store data\n",
    "    championships = []\n",
    "    matches_times = []\n",
    "    matches_teamsA = []\n",
    "    matches_teamsB = []\n",
    "    matches_statuses = []\n",
    "    matches_scores = []\n",
    "   \n",
    "    def get_matches_details(page):\n",
    "        # Extracting championship names\n",
    "        matches = soup.find_all('a', {'class': 'tourTitle'})\n",
    "        for match in matches:\n",
    "            championships.append(match.find('h2').text.strip())\n",
    "\n",
    "    def get_matches_times(page):\n",
    "        # Extracting match times\n",
    "        matches_time = soup.find_all('div', {'class': 'MResult'})\n",
    "        for match in matches_time:\n",
    "            matches_times.append(match.find('span', {'class': 'time'}).text.strip())\n",
    "\n",
    "    def get_matches_teams(page):\n",
    "        # Extracting team names\n",
    "        matches_team_A = soup.find_all('div', {'class': 'teams teamA'})\n",
    "        for match in matches_team_A:\n",
    "            matches_teamsA.append(match.find('p').text.strip())\n",
    "            \n",
    "        matches_team_B = soup.find_all('div', {'class': 'teams teamB'})\n",
    "        for match in matches_team_B:\n",
    "            matches_teamsB.append(match.find('p').text.strip())\n",
    "\n",
    "    def get_matches_scores(page):\n",
    "        # Extracting match scores\n",
    "        matches_score = soup.find_all('div', {'class': 'MResult'})\n",
    "        for match in matches_score:\n",
    "            score_match = match.find_all('span', {'class': 'score'})\n",
    "            score = f'{score_match[0].text.strip()} - {score_match[1].text.strip()}'\n",
    "            matches_scores.append(score)\n",
    "\n",
    "    def get_matches_status(page):\n",
    "        # Extracting match statuses\n",
    "        matches_status = soup.find_all('div', {'class': 'topData'})\n",
    "        for match in matches_status:\n",
    "            states = match.find('div', {'class': 'matchStatus'}).text.strip()\n",
    "            matches_statuses.append(states)\n",
    "\n",
    "    # Call functions to extract data\n",
    "    get_matches_details(page)\n",
    "    get_matches_times(page)\n",
    "    get_matches_teams(page)\n",
    "    get_matches_scores(page)\n",
    "    get_matches_status(page)\n",
    "    \n",
    "    # Combining data into a DataFrame\n",
    "    result = itertools.zip_longest(championships, matches_teamsA, matches_scores, matches_teamsB, matches_times, matches_statuses, fillvalue=None)\n",
    "    data = pd.DataFrame(result, columns=[\"Championships\", \"Teams A\", \"Scores\", \"Teams B\", \"Times\", \"Statuses\"])\n",
    "    \n",
    "    # Saving data to an Excel file\n",
    "    data.to_excel(r'C:\\Users\\kirol\\OneDrive\\Desktop\\Data analytics files\\Scraper-Yalla-Kora.xlsx', index=False, encoding='utf-8')\n",
    "\n",
    "# Call the function to execute scraping and save data\n",
    "get_data(page)"
   ]
  },
  {
   "cell_type": "markdown",
   "id": "c1f7373a",
   "metadata": {},
   "source": [
    "# Task 1 what are the types of parsing and compare between them?\n",
    "# Task 2 what is the different between find and find_all ?"
   ]
  }
 ],
 "metadata": {
  "kernelspec": {
   "display_name": "Python 3 (ipykernel)",
   "language": "python",
   "name": "python3"
  },
  "language_info": {
   "codemirror_mode": {
    "name": "ipython",
    "version": 3
   },
   "file_extension": ".py",
   "mimetype": "text/x-python",
   "name": "python",
   "nbconvert_exporter": "python",
   "pygments_lexer": "ipython3",
   "version": "3.11.4"
  }
 },
 "nbformat": 4,
 "nbformat_minor": 5
}
