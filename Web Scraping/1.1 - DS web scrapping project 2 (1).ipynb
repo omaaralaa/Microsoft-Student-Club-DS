{
 "cells": [
  {
   "cell_type": "code",
   "execution_count": 2,
   "id": "ea9d419f",
   "metadata": {
    "ExecuteTime": {
     "end_time": "2023-11-16T12:50:21.631358Z",
     "start_time": "2023-11-16T12:50:20.622113Z"
    }
   },
   "outputs": [
    {
     "name": "stdout",
     "output_type": "stream",
     "text": [
      "Pro Dev Tech  - Cairo, Egypt  Full Time\n",
      "IAP Worldwide Services, Inc - Doha, Qatar  Full Time\n",
      "IAP Worldwide Services, Inc - Doha, Qatar  Full Time\n",
      "Volta Plus - 6th of October, Giza, Egypt  Full Time\n",
      "TEMPO - New Cairo, Cairo, Egypt  Full TimeFreelance / Project\n",
      "Gulf Business Machines PND - Dubai, United Arab Emirates  Full Time\n",
      "Gulf Business Machines PND - Dubai, United Arab Emirates  Full Time\n",
      "IST Networks - Maadi, Cairo, Egypt  Full Time\n",
      "DAF Holding - Cairo, Egypt  Full Time\n",
      "Horizon Chemical for Special Chemicals  - Stanley, Alexandria, Egypt  Full Time\n",
      "Appen Limited - Dubai, United Arab Emirates  Full Time\n",
      "Agolo Egypt - Cairo, Egypt  Full Time\n",
      "AK IT Consulting - Nasr City, Cairo, Egypt  Full Time\n",
      "LINK Development - Cairo, Egypt  Full Time\n",
      "Confidential - Giza, Giza, Egypt  Full Time\n"
     ]
    }
   ],
   "source": [
    "from bs4 import BeautifulSoup\n",
    "import requests\n",
    "website=requests.get(\"https://wuzzuf.net/search/jobs/?q=ai+&a=hpb\").text\n",
    "\n",
    "website=BeautifulSoup(website, 'lxml')    #lxml parser \n",
    "\n",
    "\n",
    "jop=website.find(\"div\",class_=\"css-pkv5jc\")\n",
    "#print (jop)\n",
    "\n",
    "company=jop.find(\"div\",class_=\"css-d7j1kk\").a.text\n",
    "#print(company)\n",
    "\n",
    "location=jop.find(\"span\",class_=\"css-5wys0k\").text\n",
    "#print(location)\n",
    "\n",
    "jop_title=jop.find(\"div\",class_=\"css-1lh32fc\").text\n",
    "#print(jop_title)\n",
    "\n",
    "\n",
    "# da kda e7na gebna awl saf7a bas*\n",
    "\n",
    "jops=website.find_all(\"div\",class_=\"css-pkv5jc\")\n",
    "for jop in jops:\n",
    "    company=jop.find(\"div\",class_=\"css-d7j1kk\").a.text\n",
    "    location=jop.find(\"span\",class_=\"css-5wys0k\").text\n",
    "    jop_title=jop.find(\"div\",class_=\"css-1lh32fc\").text\n",
    "    print(company , location , jop_title)\n",
    "\n",
    "# aft7 file csv 3l4an a store feha eldataaaaa\n",
    "import csv\n",
    "csv_file=open(r\"C:\\Users\\clt\\Desktop\\Web Scraping\\1.csv\",\"w\",encoding=\"utf-8\")\n",
    "writer=csv.writer(csv_file)\n",
    "writer.writerow(['company',' location','jop_title'])\n",
    "\n",
    "jops=website.find_all(\"div\",class_=\"css-pkv5jc\")\n",
    "for jop in jops:\n",
    "    company=jop.find(\"div\",class_=\"css-d7j1kk\").a.text\n",
    "    location=jop.find(\"span\",class_=\"css-5wys0k\").text\n",
    "    jop_title=jop.find(\"div\",class_=\"css-1lh32fc\").text\n",
    "    writer.writerow([company, location,jop_title])\n",
    "   \n",
    "csv_file.close()"
   ]
  },
  {
   "cell_type": "code",
   "execution_count": null,
   "id": "dbe3e0d2",
   "metadata": {},
   "outputs": [],
   "source": []
  }
 ],
 "metadata": {
  "kernelspec": {
   "display_name": "Python 3 (ipykernel)",
   "language": "python",
   "name": "python3"
  },
  "language_info": {
   "codemirror_mode": {
    "name": "ipython",
    "version": 3
   },
   "file_extension": ".py",
   "mimetype": "text/x-python",
   "name": "python",
   "nbconvert_exporter": "python",
   "pygments_lexer": "ipython3",
   "version": "3.11.4"
  }
 },
 "nbformat": 4,
 "nbformat_minor": 5
}
